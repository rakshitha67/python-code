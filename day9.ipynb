{
 "cells": [
  {
   "cell_type": "code",
   "execution_count": 7,
   "id": "4b176093-a599-4720-94e9-7c960eb3d52c",
   "metadata": {},
   "outputs": [
    {
     "name": "stdin",
     "output_type": "stream",
     "text": [
      " bitm\n"
     ]
    },
    {
     "name": "stdout",
     "output_type": "stream",
     "text": [
      "mtib"
     ]
    }
   ],
   "source": [
    "a=input()\n",
    "s=[]\n",
    "for e in a:\n",
    "    s.append(e)\n",
    "\n",
    "while len(s)>0:\n",
    "   print(s.pop(),end=\"\")\n"
   ]
  },
  {
   "cell_type": "code",
   "execution_count": 9,
   "id": "84ede3ce-c97f-4406-8fd0-0a8d62948bbb",
   "metadata": {},
   "outputs": [
    {
     "name": "stdin",
     "output_type": "stream",
     "text": [
      " abcd\n"
     ]
    },
    {
     "name": "stdout",
     "output_type": "stream",
     "text": [
      "4\n",
      "d3\n",
      "c2\n",
      "b1\n",
      "a"
     ]
    }
   ],
   "source": [
    "a=input()\n",
    "s=[]\n",
    "for e in a:\n",
    "    s.append(e)\n",
    "\n",
    "while len(s)>0:\n",
    "   print(len(s))\n",
    "   print(s.pop(),end=\"\")\n"
   ]
  },
  {
   "cell_type": "code",
   "execution_count": 10,
   "id": "82dbdcea-fd4b-42d1-81ff-4a4c10277ba6",
   "metadata": {},
   "outputs": [
    {
     "name": "stdin",
     "output_type": "stream",
     "text": [
      " this is a car\n"
     ]
    },
    {
     "name": "stdout",
     "output_type": "stream",
     "text": [
      "car  a  is  this  "
     ]
    }
   ],
   "source": [
    "a=input()\n",
    "s=[]\n",
    "for e in a.split():\n",
    "    s.append(e)\n",
    "\n",
    "while len(s)>0:\n",
    "    print(s.pop(),end=\"  \")"
   ]
  },
  {
   "cell_type": "code",
   "execution_count": null,
   "id": "3781433a-a442-4162-8adc-d26b1418c489",
   "metadata": {},
   "outputs": [],
   "source": [
    "def"
   ]
  },
  {
   "cell_type": "code",
   "execution_count": 40,
   "id": "8c2b81e2-3528-45c4-866c-515b39e4a35c",
   "metadata": {},
   "outputs": [
    {
     "name": "stdin",
     "output_type": "stream",
     "text": [
      " (ab+d*a)\n"
     ]
    },
    {
     "name": "stdout",
     "output_type": "stream",
     "text": [
      " abda*+\n"
     ]
    }
   ],
   "source": [
    "def prec(e):\n",
    "    if e==\"^\":\n",
    "        return 3\n",
    "    elif e==\"*\" or e==\"/\":\n",
    "        return 2\n",
    "    elif e==\"+\" or e==\"-\":\n",
    "         return 1\n",
    "    else:\n",
    "        return -1\n",
    "def asoc(e):\n",
    "    if e=='^':\n",
    "       return 'R'\n",
    "    else:\n",
    "       return 'L'\n",
    "a=input()\n",
    "s=[]\n",
    "result=\" \"\n",
    "for e in a:\n",
    "    if e.isalnum():\n",
    "        result +=e\n",
    "    elif e == '(':\n",
    "        s.append(e)\n",
    "    elif e == ')':\n",
    "        while  s[-1] != '(':\n",
    "            result += s.pop()\n",
    "        s.pop()\n",
    "     \n",
    "    else:\n",
    "          while s and (prec(e)<prec(s[-1])or(prec(e)==prec(s[-1]) and asoc(e)=='L')):\n",
    "            result +=s.pop()\n",
    "          s.append(e)\n",
    " \n",
    "        \n",
    "     \n",
    "while s:\n",
    "    result +=s.pop()\n",
    "print(result)\n",
    "\n",
    "\n",
    "    "
   ]
  },
  {
   "cell_type": "code",
   "execution_count": null,
   "id": "5a464262-b208-4432-a86b-6de47f7422e2",
   "metadata": {},
   "outputs": [],
   "source": [
    "#in a arcade game,there is a king who got spelled by a witch that whenever he eat he have to take care of what is sequence of his food intake\n",
    "#if he eats similar food one after  other it will cancel out the its effect and total energy was decreased your taks is to determine the total energy of the\n",
    "#the king after his meal"
   ]
  },
  {
   "cell_type": "markdown",
   "id": "3f6a494b-3af5-459c-b675-9f2c8331824c",
   "metadata": {},
   "source": [
    "example:\n",
    "[\"apple\",\"dal\",\"chapati\",\"rice\",\"rice\",\"apple\",\"apple\",\"dal\",\"rice\",\"dal\",\"chapati,\"chapati\"\n",
    "consider that energy released by each item will be same which is 1 unit\n",
    "so the total energy intake is 6 unit as per above example\n",
    "[\"apple\",\"dal\",\"chapati\",\"dal\",\"rice\",\"dal']"
   ]
  },
  {
   "cell_type": "code",
   "execution_count": 42,
   "id": "3e93c7be-eb2b-4300-a809-7ac34c080688",
   "metadata": {},
   "outputs": [
    {
     "name": "stdin",
     "output_type": "stream",
     "text": [
      " A D C R R A A C R D C C\n"
     ]
    },
    {
     "name": "stdout",
     "output_type": "stream",
     "text": [
      "4 ['A', 'D', 'R', 'D']\n"
     ]
    }
   ],
   "source": [
    "a=[item for item in input().split()]\n",
    "s=[]\n",
    "for item in a:\n",
    "    if not s:\n",
    "        s.append(item)\n",
    "    elif s[-1] == item:\n",
    "        s.pop()\n",
    "    else:\n",
    "        s.append(item)\n",
    "print(len(s),s)\n",
    "        "
   ]
  },
  {
   "cell_type": "code",
   "execution_count": 20,
   "id": "38050b6e-94d5-482a-bb5d-7a296ef5e228",
   "metadata": {},
   "outputs": [
    {
     "name": "stdin",
     "output_type": "stream",
     "text": [
      " '[''['\n"
     ]
    },
    {
     "name": "stdout",
     "output_type": "stream",
     "text": [
      "invalid\n"
     ]
    }
   ],
   "source": [
    "a=input()\n",
    "s=[]\n",
    "for e in a:\n",
    "    if e == '(' or e == '{' or e=='[':\n",
    "        s.append(e)\n",
    "    elif (e == ')' and s[-1]=='(') or ( e == '}' and s[-1]=='{') or (e ==']' and s[-1]=='['):\n",
    "            s.pop()\n",
    "    else:\n",
    "         continue\n",
    "\n",
    "if not s:\n",
    "    print(\"valid\")\n",
    "else:\n",
    "    print(\"invalid\")\n",
    "    \n",
    "    \n",
    "    \n",
    "    \n",
    "\n"
   ]
  },
  {
   "cell_type": "code",
   "execution_count": null,
   "id": "76b05230-916e-4fee-81a9-3b75f3013eb5",
   "metadata": {},
   "outputs": [],
   "source": [
    "\n",
    "\n"
   ]
  }
 ],
 "metadata": {
  "kernelspec": {
   "display_name": "Python 3 (ipykernel)",
   "language": "python",
   "name": "python3"
  },
  "language_info": {
   "codemirror_mode": {
    "name": "ipython",
    "version": 3
   },
   "file_extension": ".py",
   "mimetype": "text/x-python",
   "name": "python",
   "nbconvert_exporter": "python",
   "pygments_lexer": "ipython3",
   "version": "3.12.3"
  }
 },
 "nbformat": 4,
 "nbformat_minor": 5
}
