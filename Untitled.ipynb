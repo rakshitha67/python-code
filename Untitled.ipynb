{
 "cells": [
  {
   "cell_type": "code",
   "execution_count": 1,
   "id": "5970e877-1320-4bac-8e4b-c83a0fd08cb2",
   "metadata": {},
   "outputs": [
    {
     "name": "stdout",
     "output_type": "stream",
     "text": [
      "3\n"
     ]
    }
   ],
   "source": [
    "a=3\n",
    "print(a)\n"
   ]
  },
  {
   "cell_type": "code",
   "execution_count": 2,
   "id": "f99fb2fe-9755-4db4-add1-c96e10b04466",
   "metadata": {},
   "outputs": [
    {
     "name": "stdout",
     "output_type": "stream",
     "text": [
      "<class 'float'>\n"
     ]
    }
   ],
   "source": [
    "b=7.7\n",
    "print(type(b))"
   ]
  },
  {
   "cell_type": "code",
   "execution_count": 3,
   "id": "54db75a8-9c94-44fe-9c1b-f1c15f6650d4",
   "metadata": {},
   "outputs": [
    {
     "name": "stdout",
     "output_type": "stream",
     "text": [
      "<class 'str'>\n"
     ]
    }
   ],
   "source": [
    "a=\"a\"\n",
    "print(type(a))"
   ]
  },
  {
   "cell_type": "code",
   "execution_count": 4,
   "id": "b032d6ef-7642-40eb-9bd1-3c1164bf6931",
   "metadata": {},
   "outputs": [
    {
     "data": {
      "text/plain": [
       "[2, 3]"
      ]
     },
     "execution_count": 4,
     "metadata": {},
     "output_type": "execute_result"
    }
   ],
   "source": [
    "[2,3]"
   ]
  },
  {
   "cell_type": "code",
   "execution_count": 5,
   "id": "3a7078b1-8cf9-44a4-849d-d5fc47f1136e",
   "metadata": {},
   "outputs": [
    {
     "name": "stdout",
     "output_type": "stream",
     "text": [
      "[2, 3]\n",
      "<class 'list'>\n"
     ]
    }
   ],
   "source": [
    "a=[2,3]\n",
    "print(a)\n",
    "print(type(a))\n"
   ]
  },
  {
   "cell_type": "code",
   "execution_count": null,
   "id": "68c42b20-04bb-4bee-bf8b-df11bc2d4de1",
   "metadata": {},
   "outputs": [],
   "source": []
  },
  {
   "cell_type": "code",
   "execution_count": 8,
   "id": "f581891e-94a9-444b-8aa9-606fe472b2d3",
   "metadata": {},
   "outputs": [
    {
     "name": "stdout",
     "output_type": "stream",
     "text": [
      "(2, 3)\n",
      "<class 'tuple'>\n"
     ]
    }
   ],
   "source": [
    "a=(2,3)\n",
    "print(a)\n",
    "print(type(a))"
   ]
  },
  {
   "cell_type": "code",
   "execution_count": null,
   "id": "0b5543a2-6fb4-4223-9071-baf1c1242f79",
   "metadata": {},
   "outputs": [],
   "source": []
  },
  {
   "cell_type": "code",
   "execution_count": 9,
   "id": "2224f728-8e45-45e0-bba6-128f71944d60",
   "metadata": {},
   "outputs": [
    {
     "name": "stdin",
     "output_type": "stream",
     "text": [
      " 8\n",
      " 7\n",
      " 8\n"
     ]
    },
    {
     "name": "stdout",
     "output_type": "stream",
     "text": [
      "878\n"
     ]
    }
   ],
   "source": [
    "a=input()\n",
    "b=input()\n",
    "c=input()\n",
    "d=a+b+c\n",
    "print(d)"
   ]
  },
  {
   "cell_type": "code",
   "execution_count": null,
   "id": "0495752a-9373-44a2-8313-0fbb71c36c54",
   "metadata": {},
   "outputs": [],
   "source": []
  },
  {
   "cell_type": "code",
   "execution_count": 10,
   "id": "36837f01-83b4-4e7f-b7d0-5f864c6a1b27",
   "metadata": {},
   "outputs": [
    {
     "name": "stdin",
     "output_type": "stream",
     "text": [
      " 4\n",
      " 5\n",
      " 6\n"
     ]
    },
    {
     "name": "stdout",
     "output_type": "stream",
     "text": [
      "15\n"
     ]
    }
   ],
   "source": [
    "a=int(input())\n",
    "b=int(input())\n",
    "c=int(input())\n",
    "d=a+b+c\n",
    "print(d)"
   ]
  },
  {
   "cell_type": "code",
   "execution_count": 22,
   "id": "97922b75-cdb8-4f73-9f91-8d9438e0684a",
   "metadata": {},
   "outputs": [
    {
     "name": "stdin",
     "output_type": "stream",
     "text": [
      "Enter three number: 4 5 6\n"
     ]
    },
    {
     "name": "stdout",
     "output_type": "stream",
     "text": [
      "456\n"
     ]
    }
   ],
   "source": [
    "a,b,c=input(\"Enter three number:\").split()\n",
    "d=a+b+c\n",
    "print(d)"
   ]
  },
  {
   "cell_type": "code",
   "execution_count": 27,
   "id": "781dd6e6-a892-49da-a958-4d9e24441d02",
   "metadata": {},
   "outputs": [
    {
     "name": "stdin",
     "output_type": "stream",
     "text": [
      "Enter three number: 3 4 5\n"
     ]
    },
    {
     "name": "stdout",
     "output_type": "stream",
     "text": [
      "345\n"
     ]
    }
   ],
   "source": [
    "a,b,c=input(\"Enter three number:\").split()\n",
    "d=int(a+b+c)\n",
    "print(d)"
   ]
  },
  {
   "cell_type": "code",
   "execution_count": 3,
   "id": "430546c1-330e-4e89-91a9-9e4425b440b1",
   "metadata": {},
   "outputs": [
    {
     "name": "stdin",
     "output_type": "stream",
     "text": [
      "Enter the name ram\n",
      "Enter the weight 56\n"
     ]
    },
    {
     "name": "stdout",
     "output_type": "stream",
     "text": [
      "ram\n",
      "You are eligible to donate blood\n"
     ]
    }
   ],
   "source": [
    "Name=input(\"Enter the name\")\n",
    "weight=int(input(\"Enter the weight\"))\n",
    "if weight>50:\n",
    "    print(Name)\n",
    "    print(\"You are eligible to donate blood\")\n",
    "else:\n",
    "    print(Name)\n",
    "    print(\"You are not eligible to donate blood\")\n",
    "\n"
   ]
  },
  {
   "cell_type": "code",
   "execution_count": null,
   "id": "29b186c7-881e-4051-809e-ab5dd666163f",
   "metadata": {},
   "outputs": [],
   "source": []
  },
  {
   "cell_type": "code",
   "execution_count": 4,
   "id": "575e593d-e47c-4dc3-93bc-f801d7da3c02",
   "metadata": {},
   "outputs": [
    {
     "name": "stdin",
     "output_type": "stream",
     "text": [
      " 2\n",
      " 4\n"
     ]
    },
    {
     "name": "stdout",
     "output_type": "stream",
     "text": [
      "b is greater\n"
     ]
    }
   ],
   "source": [
    "a=input()\n",
    "b=input()\n",
    "if a>b:\n",
    "    print(\"a is greater\")\n",
    "else:\n",
    "    print(\"b is greater\")\n"
   ]
  },
  {
   "cell_type": "code",
   "execution_count": 8,
   "id": "aa8e86cc-f1a4-429b-a1f6-3c8ac5e70308",
   "metadata": {},
   "outputs": [
    {
     "ename": "IndentationError",
     "evalue": "unindent does not match any outer indentation level (<string>, line 12)",
     "output_type": "error",
     "traceback": [
      "\u001b[1;36m  File \u001b[1;32m<string>:12\u001b[1;36m\u001b[0m\n\u001b[1;33m    else:\u001b[0m\n\u001b[1;37m         ^\u001b[0m\n\u001b[1;31mIndentationError\u001b[0m\u001b[1;31m:\u001b[0m unindent does not match any outer indentation level\n"
     ]
    }
   ],
   "source": [
    "a=input()\n",
    "b=input()\n",
    "c=input()\n",
    "if a>b:\n",
    "    if a>c:\n",
    "       print(\"a is largest\")\n",
    "    else:\n",
    "        print(\"c is largest\")\n",
    "else:\n",
    "     if b>c:\n",
    "         print(\"b is largest\")\n",
    "      else:\n",
    "          print(\"c is largest\")"
   ]
  },
  {
   "cell_type": "code",
   "execution_count": 6,
   "id": "8e703625-f8e8-4727-ac1f-99e608ccc228",
   "metadata": {},
   "outputs": [
    {
     "name": "stdin",
     "output_type": "stream",
     "text": [
      "Enter your marks 89\n"
     ]
    },
    {
     "name": "stdout",
     "output_type": "stream",
     "text": [
      "Grade = A\n"
     ]
    }
   ],
   "source": [
    "marks=int(input(\"Enter your marks\"))\n",
    "if marks>=90 and marks<100:\n",
    "    print(\"Grade = A+\")\n",
    "else:\n",
    "     if marks>=80 and marks<90:\n",
    "         print(\"Grade = A\")\n",
    "     else:\n",
    "           if marks>=70 and marks<80:\n",
    "               print(\"Grade = B+\")\n",
    "           else:\n",
    "               if marks>=60 and marks<70:\n",
    "                  print(\"Grade = B\")\n",
    "               else:\n",
    "                   if marks>=50 and marks<60:\n",
    "                      print(\"Grade = c\")\n",
    "                   else:\n",
    "                       if marks>=40 and marks<50:\n",
    "                          print(\"Grade = D\")\n",
    "                       else:\n",
    "                             if marks>=30 and marks<40:\n",
    "                                print(\"Grade = E\")\n",
    "                             else:\n",
    "                                   if marks>=0 and marks<30:\n",
    "                                       print(\"Grade = F\")\n",
    "                                   else:\n",
    "                                       print(\"Invalid choice\")\n",
    "                     \n",
    "                     \n",
    "                \n",
    "    "
   ]
  },
  {
   "cell_type": "code",
   "execution_count": null,
   "id": "e2be253e-ea6f-4823-83aa-9570f0684844",
   "metadata": {},
   "outputs": [],
   "source": [
    "day=int(input(\"Enter the day\"))\n",
    "match Day:\n",
    "case 1:print(\"Monday\")\n",
    "case 2:print(\"Tuesday\")\n",
    "    \n",
    "    "
   ]
  },
  {
   "cell_type": "code",
   "execution_count": 7,
   "id": "49e65f99-1921-471f-95e1-9e114a12c92e",
   "metadata": {},
   "outputs": [
    {
     "name": "stdout",
     "output_type": "stream",
     "text": [
      "0\n",
      "1\n",
      "2\n",
      "3\n",
      "4\n",
      "5\n",
      "6\n",
      "7\n",
      "8\n",
      "9\n"
     ]
    }
   ],
   "source": [
    "for x in range(0,10):\n",
    "    print(x)"
   ]
  },
  {
   "cell_type": "code",
   "execution_count": 8,
   "id": "cf21854d-2c59-4f3a-95c7-83d368700cfa",
   "metadata": {},
   "outputs": [
    {
     "name": "stdout",
     "output_type": "stream",
     "text": [
      "0\n",
      "1\n",
      "2\n",
      "3\n",
      "4\n",
      "5\n",
      "6\n",
      "7\n",
      "8\n",
      "9\n"
     ]
    }
   ],
   "source": [
    "x=0\n",
    "while x<10:\n",
    "    print(x)\n",
    "    x=x+1"
   ]
  },
  {
   "cell_type": "code",
   "execution_count": 12,
   "id": "0b64d3d0-07b9-4928-8b72-4fd304d6e2d0",
   "metadata": {},
   "outputs": [
    {
     "name": "stdout",
     "output_type": "stream",
     "text": [
      "0\n",
      "1\n",
      "2\n",
      "3\n",
      "4\n",
      "5\n",
      "6\n",
      "7\n",
      "8\n",
      "9\n",
      "10\n",
      "11\n",
      "12\n",
      "13\n",
      "14\n",
      "15\n",
      "16\n",
      "17\n",
      "18\n",
      "19\n"
     ]
    }
   ],
   "source": [
    "for x in range(0,10):\n",
    "    print(x)\n",
    "for y in range(10,20):\n",
    "   print(y)"
   ]
  },
  {
   "cell_type": "code",
   "execution_count": 14,
   "id": "607c0848-8e22-467d-bb5d-18c3db567d0e",
   "metadata": {},
   "outputs": [
    {
     "name": "stdout",
     "output_type": "stream",
     "text": [
      "*\n",
      "**\n",
      "***\n",
      "****\n",
      "*****\n",
      "******\n",
      "*******\n",
      "********\n",
      "*********\n",
      "**********\n"
     ]
    }
   ],
   "source": [
    "for y in range(0,10):\n",
    "    for x in range(0,y+1):\n",
    "        print(\"*\",end=\"\")\n",
    "    print()"
   ]
  },
  {
   "cell_type": "code",
   "execution_count": 7,
   "id": "71438914-f9c5-4ed8-915d-7f056932d66c",
   "metadata": {},
   "outputs": [
    {
     "name": "stdin",
     "output_type": "stream",
     "text": [
      "Enter the lenght of the series 10\n"
     ]
    },
    {
     "name": "stdout",
     "output_type": "stream",
     "text": [
      "0 1 1 2 3 5 8 13 21 34 "
     ]
    }
   ],
   "source": [
    "a=0\n",
    "b=1\n",
    "n=int(input(\"Enter the lenght of the series\"))\n",
    "print(a,b,end=\" \")\n",
    "for x in range(0,n-2):\n",
    "      c=a+b\n",
    "      print(c,end=\" \")\n",
    "      a=b\n",
    "      b=c\n",
    "\n",
    "\n",
    "\n",
    "\n"
   ]
  },
  {
   "cell_type": "code",
   "execution_count": 5,
   "id": "f056c47a-887e-4f74-b6c6-2df3e2695a7f",
   "metadata": {},
   "outputs": [
    {
     "name": "stdout",
     "output_type": "stream",
     "text": [
      "[2, 4, 6.7, 8]\n",
      "2\n",
      "4\n",
      "6.7\n"
     ]
    }
   ],
   "source": [
    "a=[2,4,6.7,8]\n",
    "print(a)\n",
    "for i in range(0,3):\n",
    "    print(a[i]) "
   ]
  },
  {
   "cell_type": "code",
   "execution_count": 6,
   "id": "0965e7d1-2c21-4363-8443-ffed66792bf0",
   "metadata": {},
   "outputs": [
    {
     "name": "stdout",
     "output_type": "stream",
     "text": [
      "4\n"
     ]
    }
   ],
   "source": [
    "a=[2,3,4,5]\n",
    "print(a[2])"
   ]
  },
  {
   "cell_type": "code",
   "execution_count": 9,
   "id": "edb28f11-5db4-4ede-912b-2601be0278cb",
   "metadata": {},
   "outputs": [
    {
     "name": "stdout",
     "output_type": "stream",
     "text": [
      "[2, 5, 6, 7]\n",
      "5\n",
      "5\n",
      "5\n"
     ]
    }
   ],
   "source": [
    "a=[2,5,6,7]\n",
    "print(a)\n",
    "for i in range(0,3):\n",
    "    print(a[1])"
   ]
  },
  {
   "cell_type": "markdown",
   "id": "91fa1dd9-926b-4f4b-84f5-32b39a3860f1",
   "metadata": {},
   "source": [
    "a+(size of bytes *subscripts)\n",
    "pop to pull out element of the list and return item at index\n",
    "sort is used to sort the list in ascending order and return none\n",
    "copy is used to return the copy of the list\n",
    "append is used to append object to the end of the list\n",
    "extend is used to extend list by attending the elements by iterable\n",
    "index is used to return first index of value\n",
    "count is used to return number of occurances of value\n",
    "insert is used to insert object before index\n",
    "remove is used to remove object\n",
    "tuple is immutable\n",
    "list is mutable\n",
    "\n",
    "\n",
    "\n",
    "\n"
   ]
  },
  {
   "cell_type": "code",
   "execution_count": 23,
   "id": "a6ff9514-6826-4e3f-b8bf-9eb00de15a02",
   "metadata": {},
   "outputs": [
    {
     "name": "stdout",
     "output_type": "stream",
     "text": [
      "[1, 3, 4, 5]\n",
      "5\n",
      "[1, 3, 4, 10]\n",
      "1\n",
      "[1, 3, 4, 10]\n",
      "1\n",
      "None\n",
      "[1, 3, 4, 10, 9]\n",
      "[1, 4, 10, 9]\n",
      "[1, 4, 9, 10]\n",
      "[10, 9, 4, 1]\n"
     ]
    }
   ],
   "source": [
    "a=[1,3,4,5]\n",
    "b=a.copy()\n",
    "print(b)\n",
    "\n",
    "c=b.pop(3)\n",
    "print(c)\n",
    "\n",
    "b.append(10)\n",
    "print(b)\n",
    "print(b.index(3))\n",
    "print(b)\n",
    "print(b.count(3))\n",
    "print(b.insert(4,9))\n",
    "print(b)\n",
    "b.remove(3)\n",
    "print(b)\n",
    "b.sort()\n",
    "print(b)\n",
    "b.sort(reverse=True)\n",
    "print(b)\n",
    "b.extend(a)\n"
   ]
  },
  {
   "cell_type": "code",
   "execution_count": 25,
   "id": "72b6037b-0722-4376-9eb6-69ed9df0b4b8",
   "metadata": {},
   "outputs": [
    {
     "name": "stdin",
     "output_type": "stream",
     "text": [
      "Enter the size of list: 5\n",
      " 2\n"
     ]
    },
    {
     "name": "stdout",
     "output_type": "stream",
     "text": [
      "['2']\n"
     ]
    },
    {
     "name": "stdin",
     "output_type": "stream",
     "text": [
      " 3\n"
     ]
    },
    {
     "name": "stdout",
     "output_type": "stream",
     "text": [
      "['2', '3']\n"
     ]
    },
    {
     "name": "stdin",
     "output_type": "stream",
     "text": [
      " 4\n"
     ]
    },
    {
     "name": "stdout",
     "output_type": "stream",
     "text": [
      "['2', '3', '4']\n"
     ]
    },
    {
     "name": "stdin",
     "output_type": "stream",
     "text": [
      " 5\n"
     ]
    },
    {
     "name": "stdout",
     "output_type": "stream",
     "text": [
      "['2', '3', '4', '5']\n"
     ]
    },
    {
     "name": "stdin",
     "output_type": "stream",
     "text": [
      " 3\n"
     ]
    },
    {
     "name": "stdout",
     "output_type": "stream",
     "text": [
      "['2', '3', '4', '5', '3']\n"
     ]
    }
   ],
   "source": [
    "n=int(input(\"Enter the size of list:\"))\n",
    "a=[]\n",
    "for x in range(0,n):\n",
    "    x=input()\n",
    "    a.append(x)\n",
    "    print(a)\n",
    "    \n",
    "      "
   ]
  },
  {
   "cell_type": "code",
   "execution_count": 38,
   "id": "cb140730-8cb0-4bf3-a0b4-c216d91a16a6",
   "metadata": {},
   "outputs": [
    {
     "name": "stdin",
     "output_type": "stream",
     "text": [
      "Enter the element of the list:  2 3 4 5 6 7\n"
     ]
    },
    {
     "name": "stdout",
     "output_type": "stream",
     "text": [
      "[2, 3, 4, 5, 6, 7]\n"
     ]
    }
   ],
   "source": [
    "L=[int(item) for item in (input(\"Enter the element of the list: \").split())]\n",
    "print(L)"
   ]
  },
  {
   "cell_type": "code",
   "execution_count": 41,
   "id": "8afe0c1e-7d48-46a3-a00b-6d9b40f2bec3",
   "metadata": {},
   "outputs": [
    {
     "name": "stdin",
     "output_type": "stream",
     "text": [
      "Enter the element of the list:  2.3 4.5 \n"
     ]
    },
    {
     "name": "stdout",
     "output_type": "stream",
     "text": [
      "['2.3', '4.5']\n"
     ]
    }
   ],
   "source": [
    "L=[(item) for item in (input(\"Enter the element of the list: \").split())]\n",
    "print(L)\n",
    "      \n"
   ]
  },
  {
   "cell_type": "code",
   "execution_count": 44,
   "id": "bba76722-2de4-4c14-9ee4-d95cb3efd985",
   "metadata": {},
   "outputs": [
    {
     "name": "stdout",
     "output_type": "stream",
     "text": [
      "[2, 3.3, 4, 5]\n",
      "<class 'list'>\n"
     ]
    }
   ],
   "source": [
    "a=list([2,3.3,4,5])\n",
    "print(a)\n",
    "print(type(a))"
   ]
  },
  {
   "cell_type": "code",
   "execution_count": 45,
   "id": "0e59b5f0-2f32-4b05-aec7-b78e8f90a65e",
   "metadata": {},
   "outputs": [
    {
     "name": "stdout",
     "output_type": "stream",
     "text": [
      "(2, 3, 4, 5)\n",
      "[2, 3, 4, 5]\n",
      "<class 'list'>\n"
     ]
    }
   ],
   "source": [
    "a=(2,3,4,5)\n",
    "print(a)\n",
    "b=list(a)\n",
    "print(b)\n",
    "print(type(b))"
   ]
  },
  {
   "cell_type": "code",
   "execution_count": 52,
   "id": "5c665237-ae73-4b11-99b0-880ad66af2d0",
   "metadata": {},
   "outputs": [
    {
     "name": "stdout",
     "output_type": "stream",
     "text": [
      "[2, 3, 4, 5, 6]\n",
      "5\n",
      "5\n",
      "5\n",
      "5\n"
     ]
    }
   ],
   "source": [
    "a=[2,3,4,5,6]\n",
    "print(a)\n",
    "for i in range(0,4):\n",
    "    print(a[-2])\n",
    "\n",
    "    \n",
    "    \n",
    "    "
   ]
  },
  {
   "cell_type": "code",
   "execution_count": 53,
   "id": "d98d460e-46dc-4600-b90d-289b54d05559",
   "metadata": {},
   "outputs": [
    {
     "name": "stdout",
     "output_type": "stream",
     "text": [
      "8\n",
      "7\n",
      "6\n",
      "5\n",
      "4\n",
      "3\n",
      "2\n",
      "1\n"
     ]
    }
   ],
   "source": [
    "a=(1,2,3,4,5,6,7,8)\n",
    "for x in range(-1,-1*(len(a)+1),-1):\n",
    "    print(a[x])"
   ]
  },
  {
   "cell_type": "code",
   "execution_count": 54,
   "id": "9faddbdb-2d2e-49e1-b75a-773fa269cfe5",
   "metadata": {},
   "outputs": [
    {
     "name": "stdout",
     "output_type": "stream",
     "text": [
      "6\n",
      "5\n",
      "4\n",
      "3\n",
      "1\n"
     ]
    }
   ],
   "source": [
    "a=(1,3,4,5,6)\n",
    "for x in range(0,len(a)):\n",
    "    print(a[-1*(x+1)])"
   ]
  },
  {
   "cell_type": "code",
   "execution_count": 62,
   "id": "85e7ba6d-984a-4354-9a91-8fe2ee639455",
   "metadata": {},
   "outputs": [
    {
     "name": "stdout",
     "output_type": "stream",
     "text": [
      "{1: 'Raj', 2: 'ram'}\n",
      "ram\n",
      "dict_keys([1, 2])\n",
      "dict_values(['Raj', 'ram'])\n",
      "dict_items([(1, 'Raj'), (2, 'ram')])\n",
      "None\n"
     ]
    }
   ],
   "source": [
    "D={1:\"Raj\",2:\"ram\"}\n",
    "print(D)\n",
    "print(D[2])\n",
    "print(D.keys())\n",
    "print(D.values())\n",
    "print(D.items())\n",
    "print(D.get(3))"
   ]
  },
  {
   "cell_type": "code",
   "execution_count": 8,
   "id": "71e42ecd-dcdb-472a-bd4a-8096f806a6cd",
   "metadata": {},
   "outputs": [
    {
     "name": "stdin",
     "output_type": "stream",
     "text": [
      " 3\n",
      " 6\n"
     ]
    },
    {
     "name": "stdout",
     "output_type": "stream",
     "text": [
      "Division is succesful\n",
      "0.5\n",
      "Error handled\n",
      "we have recieved the error as : 0.5\n"
     ]
    }
   ],
   "source": [
    "a=int(input())\n",
    "b=int(input())\n",
    "try:\n",
    "    c=a/b\n",
    "except:\n",
    "    print(\"we can't divide\")\n",
    "else:\n",
    "     print(\"Division is succesful\")\n",
    "     print(c)\n",
    "finally:\n",
    "    print(\"Error handled\")\n",
    "\n",
    "\n",
    "print(\"we have recieved the error as :\",c)\n"
   ]
  },
  {
   "cell_type": "code",
   "execution_count": 10,
   "id": "0262c5fb-f998-46ff-83cb-5f01cd60f9cb",
   "metadata": {},
   "outputs": [
    {
     "name": "stdin",
     "output_type": "stream",
     "text": [
      " 2\n",
      " 3\n"
     ]
    },
    {
     "name": "stdout",
     "output_type": "stream",
     "text": [
      "multiplication is succesfull:\n",
      "6\n",
      "we can handled the error:\n",
      "program is finished:\n"
     ]
    }
   ],
   "source": [
    "a=int(input())\n",
    "b=int(input())\n",
    "try:\n",
    "    c=a*b\n",
    "except:\n",
    "    print(\"we cant multiply\")\n",
    "else:\n",
    "    print(\"multiplication is succesfull:\")\n",
    "    print(c)\n",
    "finally:\n",
    "    print(\"we can handled the error:\")\n",
    "\n",
    "print(\"program is finished:\")\n",
    "\n",
    "\n"
   ]
  },
  {
   "cell_type": "code",
   "execution_count": 13,
   "id": "24f3a943-79da-437a-b527-a1ca4df6d69f",
   "metadata": {},
   "outputs": [
    {
     "name": "stdin",
     "output_type": "stream",
     "text": [
      "Enter the index of the list 7\n"
     ]
    },
    {
     "name": "stdout",
     "output_type": "stream",
     "text": [
      "index is not found:\n",
      "we can handled the error:\n"
     ]
    }
   ],
   "source": [
    "a=[2,3,4,5,6]\n",
    "n=int(input(\"Enter the index of the list\"))\n",
    "try:\n",
    "    print(a[n])\n",
    "except:\n",
    "    print(\"index is not found:\")\n",
    "else:\n",
    "    print(\"index is found:\")\n",
    "    print(a[n])\n",
    "finally:\n",
    "    print(\"we can handled the error:\")\n",
    "    \n",
    "    "
   ]
  },
  {
   "cell_type": "code",
   "execution_count": null,
   "id": "f6ff2f72-7f3a-4c71-90ab-bf3e3afde782",
   "metadata": {},
   "outputs": [],
   "source": [
    "try:\n",
    "   a=input()\n",
    "   b=input()\n",
    "   c=int(a)+int(b)\n",
    "   x=\"hello\"/3\n",
    "except valueError:\n",
    "    print(\"Value unable to convert\")\n",
    "except ZeroDivisonError:\n",
    "    print(\"Can't Divide by zero\")\n",
    "except:\n",
    "     print(\"some unknown error found\")\n",
    "else:\n",
    "    print(\"No error\")\n",
    "finally:\n",
    "    print(\"code execution is done\")\n",
    "\n",
    "\n"
   ]
  },
  {
   "cell_type": "code",
   "execution_count": 5,
   "id": "329acba1-14ee-466a-ad92-cdec6d7e756a",
   "metadata": {},
   "outputs": [
    {
     "name": "stdin",
     "output_type": "stream",
     "text": [
      " a\n"
     ]
    },
    {
     "name": "stdout",
     "output_type": "stream",
     "text": [
      "A is lower case\n"
     ]
    }
   ],
   "source": [
    "a=input()\n",
    "\n",
    "if a.isupper():\n",
    "   print(\"A is upper case\")\n",
    "elif a.islower():\n",
    "   print(\"A is lower case\")\n",
    "elif a.isnumeric():\n",
    "   print(\"A is numeric\")\n",
    "else:\n",
    "   print(\"A is spacial character\")\n",
    "\n"
   ]
  },
  {
   "cell_type": "code",
   "execution_count": 10,
   "id": "7c460e93-4fdb-48ba-a067-9fc6f1cbf24d",
   "metadata": {},
   "outputs": [
    {
     "name": "stdin",
     "output_type": "stream",
     "text": [
      " 121\n"
     ]
    },
    {
     "name": "stdout",
     "output_type": "stream",
     "text": [
      "is a palindrome\n"
     ]
    }
   ],
   "source": [
    "a=input()\n",
    "flag=0\n",
    "for i in range(0,int(len(a)/2)):\n",
    "   if a[i]!= a[(i+1)*-1]:\n",
    "    flag = 1\n",
    "    break\n",
    "if flag:\n",
    "    print(\"not a palindrome\")\n",
    "else:\n",
    "   print(\"is a palindrome\")\n"
   ]
  },
  {
   "cell_type": "code",
   "execution_count": 34,
   "id": "158e6548-2f6b-4e1c-876d-cde0c8cbea6d",
   "metadata": {},
   "outputs": [
    {
     "name": "stdin",
     "output_type": "stream",
     "text": [
      " 9\n"
     ]
    },
    {
     "name": "stdout",
     "output_type": "stream",
     "text": [
      "is not a prime\n"
     ]
    }
   ],
   "source": [
    "n=int(input())\n",
    "\n",
    "for x in range(2,int(n/2+1)):\n",
    "    if n%x==0:\n",
    "        print(\"is not a prime\")\n",
    "        break\n",
    "else:\n",
    "        print(\"is prime\")\n",
    "    "
   ]
  },
  {
   "cell_type": "code",
   "execution_count": 9,
   "id": "48ef5280-16c2-4095-a9f6-3e6269e8c187",
   "metadata": {},
   "outputs": [
    {
     "ename": "IndentationError",
     "evalue": "unexpected indent (2079287161.py, line 2)",
     "output_type": "error",
     "traceback": [
      "\u001b[1;36m  Cell \u001b[1;32mIn[9], line 2\u001b[1;36m\u001b[0m\n\u001b[1;33m    filenam =\"example.txt\"\u001b[0m\n\u001b[1;37m    ^\u001b[0m\n\u001b[1;31mIndentationError\u001b[0m\u001b[1;31m:\u001b[0m unexpected indent\n"
     ]
    }
   ],
   "source": [
    " if_name =='_main_'\n",
    "    filenam =\"example.txt\"\n",
    "    new_filename = \"new_example.txt\"\n",
    "\n",
    "    create_file(filename)\n",
    "    read_file(filename)\n",
    "    append_file(filename, \"This is some additional text.\\n\")\n",
    "    read_file(filename)\n",
    "    rename_file(filename, new_filename)\n",
    "    read_file(new_file)"
   ]
  },
  {
   "cell_type": "code",
   "execution_count": 12,
   "id": "74c78ac4-0f6b-47f6-aea4-f9b4c660c477",
   "metadata": {},
   "outputs": [],
   "source": [
    "import os\n",
    "\n",
    "with open(\"file1.txt\",'w') as f:\n",
    "    f.write(\"this is the first text in file\")\n",
    "    f.close()"
   ]
  },
  {
   "cell_type": "markdown",
   "id": "b3cc5b37-824b-41d9-9578-dc01ecdbfc85",
   "metadata": {},
   "source": [
    "to remove the file\n",
    "import os\n",
    "\n",
    "os.remove(\"file.txt\")"
   ]
  },
  {
   "cell_type": "code",
   "execution_count": 13,
   "id": "da26d349-f2e5-447a-b48d-8f7ad9d7212c",
   "metadata": {},
   "outputs": [
    {
     "name": "stdout",
     "output_type": "stream",
     "text": [
      "this\n",
      "111\n",
      "is\n",
      "111\n",
      "the\n",
      "111\n",
      "first\n",
      "111\n",
      "text\n",
      "111\n",
      "in\n",
      "111\n",
      "file\n",
      "111\n"
     ]
    }
   ],
   "source": [
    "import os\n",
    "\n",
    "with open(\"file1.txt\",'r') as f:\n",
    "    for a in f.read().split():\n",
    "        print(a)\n",
    "        print(\"111\")\n",
    "        f.close()"
   ]
  },
  {
   "cell_type": "code",
   "execution_count": 14,
   "id": "cc8d8171-9bbd-4976-8c1c-a8f4df459f20",
   "metadata": {},
   "outputs": [
    {
     "name": "stdout",
     "output_type": "stream",
     "text": [
      "this is the first text in file\n",
      "100\n"
     ]
    }
   ],
   "source": [
    "import os\n",
    "\n",
    "with open(\"file1.txt\",'r') as f:\n",
    "    for a in f.read().split(\"\\n\"):\n",
    "        print(a)\n",
    "        print(\"100\")\n",
    "        f.close()"
   ]
  },
  {
   "cell_type": "code",
   "execution_count": 19,
   "id": "b3a7cce6-0e4d-42f7-b7e9-4afa2b8afa1e",
   "metadata": {},
   "outputs": [
    {
     "name": "stdout",
     "output_type": "stream",
     "text": [
      "\n",
      "\n"
     ]
    }
   ],
   "source": [
    "import os\n",
    "\n",
    "with open(\"file1.txt\",'a') as f:\n",
    "    f.write(\"this is secound file\")\n",
    "    print(\"\\n\")\n",
    "    f.close()\n",
    "    "
   ]
  },
  {
   "cell_type": "code",
   "execution_count": 31,
   "id": "f2bb8ef8-5902-46c2-99a3-ce14214b3bf3",
   "metadata": {},
   "outputs": [
    {
     "name": "stdout",
     "output_type": "stream",
     "text": [
      "this is the first text in filethis is secound filethis is secound filethis is secound filethis is secound file\n"
     ]
    }
   ],
   "source": [
    "import os\n",
    "\n",
    "with open(\"file1.txt\",'r') as f:\n",
    "    a=f.read()\n",
    "    print(a)\n",
    "    f.close()\n",
    "\n",
    "os.rename(\"file1.txt\",\"file2.txt\")"
   ]
  },
  {
   "cell_type": "code",
   "execution_count": 1,
   "id": "722f8b1f-dcfc-4c74-953b-dfd7f6323c54",
   "metadata": {},
   "outputs": [
    {
     "name": "stdin",
     "output_type": "stream",
     "text": [
      " apple\n"
     ]
    }
   ],
   "source": [
    "import os\n",
    "\n",
    "with open(\"fruitname.txt\",'w') as f:\n",
    "    f.write(input())\n",
    "    f.close()\n"
   ]
  },
  {
   "cell_type": "code",
   "execution_count": null,
   "id": "127a9145-47b4-4025-b488-527a38e4ab25",
   "metadata": {},
   "outputs": [],
   "source": [
    "import os\n",
    "\n",
    "with open(\"fruitname.txt\",'w') as f:\n",
    "    "
   ]
  }
 ],
 "metadata": {
  "kernelspec": {
   "display_name": "Python 3 (ipykernel)",
   "language": "python",
   "name": "python3"
  },
  "language_info": {
   "codemirror_mode": {
    "name": "ipython",
    "version": 3
   },
   "file_extension": ".py",
   "mimetype": "text/x-python",
   "name": "python",
   "nbconvert_exporter": "python",
   "pygments_lexer": "ipython3",
   "version": "3.12.3"
  }
 },
 "nbformat": 4,
 "nbformat_minor": 5
}
