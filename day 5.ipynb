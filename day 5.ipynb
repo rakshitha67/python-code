{
 "cells": [
  {
   "cell_type": "code",
   "execution_count": 1,
   "id": "7285f9cd-a6fb-4d21-9bcb-757d22aa0c90",
   "metadata": {},
   "outputs": [
    {
     "name": "stdout",
     "output_type": "stream",
     "text": [
      "this laptop have i5 8gb ram 1Tb ssd\n"
     ]
    }
   ],
   "source": [
    "class laptop:\n",
    "    def config(self):\n",
    "        print(\"this laptop have i5 8gb ram 1Tb ssd\")\n",
    "\n",
    "hp=laptop()\n",
    "hp.config()"
   ]
  },
  {
   "cell_type": "code",
   "execution_count": 49,
   "id": "1e2c3afd-8acf-46f2-b4dc-00b0db84cba4",
   "metadata": {},
   "outputs": [
    {
     "name": "stdout",
     "output_type": "stream",
     "text": [
      "configuration of the laptop is :\n",
      "Processor i5\n",
      "ram 8\n",
      "storage 512\n"
     ]
    }
   ],
   "source": [
    "#create a laptop class with variable as processor ram storage\n",
    "class laptop:\n",
    "    def __init__(self,p,r,s):\n",
    "       self.processor=p\n",
    "       self.ram=r\n",
    "       self.storage=s\n",
    "\n",
    "    def config(self):\n",
    "        print(\"configuration of the laptop is :\")\n",
    "        print(\"Processor\",self.processor)\n",
    "        print(\"ram\",self.ram)\n",
    "        print(\"storage\",self.storage)\n",
    "        \n",
    "if __name__==\"__main__\":\n",
    "    hp = laptop(\"i5\",8,512)\n",
    "    hp.config()\n",
    "   \n",
    "        \n"
   ]
  },
  {
   "cell_type": "code",
   "execution_count": 86,
   "id": "3b8753eb-c264-4672-a132-6c02b47d0795",
   "metadata": {},
   "outputs": [
    {
     "ename": "IndentationError",
     "evalue": "unindent does not match any outer indentation level (<string>, line 6)",
     "output_type": "error",
     "traceback": [
      "\u001b[1;36m  File \u001b[1;32m<string>:6\u001b[1;36m\u001b[0m\n\u001b[1;33m    def output_Z(self):\u001b[0m\n\u001b[1;37m                       ^\u001b[0m\n\u001b[1;31mIndentationError\u001b[0m\u001b[1;31m:\u001b[0m unindent does not match any outer indentation level\n"
     ]
    }
   ],
   "source": [
    "class demo:\n",
    "  def__init__(self,a,b,c):\n",
    "        self.x=a\n",
    "        self._y=b\n",
    "        self.__z=c\n",
    "       def output_Z(self):\n",
    "           print(self.__z)\n",
    "        \n",
    "       def output_X(self):\n",
    "           print(self.x)\n",
    "        \n",
    "       def output_Y(self):\n",
    "           print(self._y)\n",
    "        \n",
    "\n",
    "ob1=demo(1,2,3)\n",
    "ob1.output_x()\n",
    "ob1.output_Y()\n",
    "ob1.output_Z()\n",
    "\n",
    "print(\"public variable: \",ob1.x)\n",
    "print(\"protected variable:\",ob1._y)\n"
   ]
  },
  {
   "cell_type": "code",
   "execution_count": 4,
   "id": "ec93e72d-f4a6-4bd1-997d-4b7b326bb0af",
   "metadata": {},
   "outputs": [
    {
     "name": "stdout",
     "output_type": "stream",
     "text": [
      "this is a fun1\n",
      "this is a fun2\n",
      "this is a fun3\n",
      "this is a fun4\n"
     ]
    }
   ],
   "source": [
    "class a:\n",
    "    def fun1(self):\n",
    "      print(\"this is a fun1\")\n",
    "    def fun2(self):\n",
    "      print(\"this is a fun2\")\n",
    "class b:\n",
    "    def fun3(self):\n",
    "      print(\"this is a fun3\")\n",
    "    def fun4(self):\n",
    "        print(\"this is a fun4\")\n",
    "if __name__==\"__main__\":\n",
    "    ob1=a()\n",
    "    ob2=b()\n",
    "    \n",
    "\n",
    "    ob1.fun1()\n",
    "    ob1.fun2()\n",
    "    ob2.fun3()\n",
    "    ob2.fun4()\n",
    "\n"
   ]
  },
  {
   "cell_type": "code",
   "execution_count": 44,
   "id": "5a968242-74a7-4a3d-97ff-b9ff82678f7b",
   "metadata": {},
   "outputs": [
    {
     "name": "stdout",
     "output_type": "stream",
     "text": [
      "constructor of class c\n",
      "20 10\n"
     ]
    }
   ],
   "source": [
    "class a:\n",
    "    def __init__(self):\n",
    "        print(\"constructor of class A\")\n",
    "class b(a):\n",
    "    def __init__(self):\n",
    "        print(\"constructor of class B\")\n",
    "#class c(a):\n",
    "    #def __init__(self):\n",
    "      # print(\"constructor of class C\")\n",
    "class d:\n",
    "    def __init__(self):\n",
    "        print(\"constructor of class D\")\n",
    "\n",
    "if __name__==\"__main__\":\n",
    "    ob1=c()"
   ]
  },
  {
   "cell_type": "code",
   "execution_count": 30,
   "id": "5775eb97-d8cf-4e25-b651-733fd022b94e",
   "metadata": {},
   "outputs": [
    {
     "name": "stdout",
     "output_type": "stream",
     "text": [
      "constructor of class C\n",
      "fun class C with self 1 5\n",
      "fun class C with self 1 2\n"
     ]
    }
   ],
   "source": [
    "class c:\n",
    "    def __init__(self):\n",
    "        print(\"constructor of class C\")\n",
    "    def abc(self,a,b=5):\n",
    "        print(\"fun class C with self\",a,b)\n",
    "\n",
    "ob=c()\n",
    "ob.abc(1)\n",
    "ob.abc(1,2)"
   ]
  },
  {
   "cell_type": "code",
   "execution_count": 34,
   "id": "2ef84b33-f5dd-4b89-958e-734db147748d",
   "metadata": {},
   "outputs": [
    {
     "name": "stdout",
     "output_type": "stream",
     "text": [
      "constructor of class c\n",
      "20 10\n"
     ]
    }
   ],
   "source": [
    "class c:\n",
    "    def __init__(self,a=20,b=10):\n",
    "        print(\"constructor of class c\")\n",
    "        self.x=a\n",
    "        self.y=b\n",
    "        print(self.x,self.y)\n",
    "\n",
    "ob=c()"
   ]
  },
  {
   "cell_type": "code",
   "execution_count": 41,
   "id": "7f26abf5-21c2-4a56-a7e9-b876d53dbc38",
   "metadata": {},
   "outputs": [
    {
     "name": "stdout",
     "output_type": "stream",
     "text": [
      "professional laptop having i5 7 765 7\n",
      "gamimg laptop having i7 9 456 2\n"
     ]
    }
   ],
   "source": [
    "class laptop:\n",
    "    def __init__(self,p,r,s):\n",
    "       self.process=p\n",
    "       self.ram=r\n",
    "       self.storage=s\n",
    "\n",
    "class professional_laptop(laptop):\n",
    "     def __init__(self,p,r,s,bat):\n",
    "          self.battery=bat\n",
    "          super().__init__(p,r,s)\n",
    "class gaming_laptop(laptop):\n",
    "      def __init__(self,p,r,s,graph):\n",
    "          self.graph=graph\n",
    "          super().__init__(p,r,s)\n",
    "\n",
    "pro1=professional_laptop(\"i5\",7,765,7)\n",
    "gam1=gaming_laptop(\"i7\",9,456,2)\n",
    "\n",
    "print(\"professional laptop having\",pro1.process,pro1.ram,pro1.storage,pro1.battery)\n",
    "print(\"gamimg laptop having\",gam1.process,gam1.ram,gam1.storage,gam1.graph)\n"
   ]
  },
  {
   "cell_type": "code",
   "execution_count": 6,
   "id": "b858532f-48b0-464a-9e17-ee6dc610430f",
   "metadata": {},
   "outputs": [
    {
     "ename": "TypeError",
     "evalue": "FC() takes no arguments",
     "output_type": "error",
     "traceback": [
      "\u001b[1;31m---------------------------------------------------------------------------\u001b[0m",
      "\u001b[1;31mTypeError\u001b[0m                                 Traceback (most recent call last)",
      "Cell \u001b[1;32mIn[6], line 39\u001b[0m\n\u001b[0;32m     35\u001b[0m         \u001b[38;5;28mself\u001b[39m\u001b[38;5;241m.\u001b[39mfarePrice\u001b[38;5;241m=\u001b[39m\u001b[38;5;28msuper\u001b[39m()\u001b[38;5;241m.\u001b[39mprint_ticket()\u001b[38;5;241m+\u001b[39m(\u001b[38;5;241m5\u001b[39m\u001b[38;5;241m*\u001b[39m\u001b[38;5;28mself\u001b[39m\u001b[38;5;241m.\u001b[39mdistance)\n\u001b[0;32m     36\u001b[0m         \u001b[38;5;28;01mreturn\u001b[39;00m \u001b[38;5;28mself\u001b[39m\u001b[38;5;241m.\u001b[39mfarePrice\n\u001b[1;32m---> 39\u001b[0m jur \u001b[38;5;241m=\u001b[39m \u001b[43mFC\u001b[49m\u001b[43m(\u001b[49m\u001b[38;5;241;43m500\u001b[39;49m\u001b[43m)\u001b[49m\n\u001b[0;32m     40\u001b[0m \u001b[38;5;28mprint\u001b[39m(\u001b[38;5;124m\"\u001b[39m\u001b[38;5;124mTicket booked Fare Price will be: \u001b[39m\u001b[38;5;124m\"\u001b[39m,jur\u001b[38;5;241m.\u001b[39mprint_ticket())\n",
      "\u001b[1;31mTypeError\u001b[0m: FC() takes no arguments"
     ]
    }
   ],
   "source": [
    "class ticket:\n",
    "   \n",
    "    def _init_(self,D):\n",
    "        self.distance = int(D)\n",
    "        self.farePrice = None\n",
    "\n",
    "class gen(ticket):\n",
    "    def _init_(self,D):\n",
    "        super()._init_(D)\n",
    "    def print_ticket(self):\n",
    "        self.farePrice=50+(self.distance*2)\n",
    "        return self.farePrice\n",
    "        \n",
    "\n",
    "\n",
    "class slp(gen):\n",
    "    def _init_(self,D):\n",
    "        super()._init_(D)\n",
    "\n",
    "    def print_ticket(self):\n",
    "        self.farePrice=super().print_ticket()+(2*self.distance)\n",
    "        return self.farePrice\n",
    "\n",
    "class AC(slp):\n",
    "    def _init_(self,D):\n",
    "        super()._init_(D)\n",
    "    def print_ticket(self):\n",
    "        self.farePrice=super().print_ticket()+(4*self.distance)\n",
    "        return self.farePrice\n",
    "\n",
    "class FC(AC):\n",
    "    def _init_(self,D):\n",
    "        super()._init_(D)\n",
    "    def print_ticket(self):\n",
    "        self.farePrice=super().print_ticket()+(5*self.distance)\n",
    "        return self.farePrice\n",
    "\n",
    "\n",
    "jur = FC(500)\n",
    "print(\"Ticket booked Fare Price will be: \",jur.print_ticket())\n"
   ]
  },
  {
   "cell_type": "code",
   "execution_count": 2,
   "id": "127108b9-9ab3-4453-8ea2-887d91c7b4c7",
   "metadata": {},
   "outputs": [
    {
     "name": "stdout",
     "output_type": "stream",
     "text": [
      "[2, 3, 4, 5, 6, 2, 3, 4, 5, 6]\n"
     ]
    }
   ],
   "source": [
    "a=[2,3,4,5,6]\n",
    "b=a.extend(a)\n",
    "print(a)"
   ]
  },
  {
   "cell_type": "code",
   "execution_count": 4,
   "id": "94973196-2af9-423c-b92b-b3a694550dec",
   "metadata": {},
   "outputs": [
    {
     "name": "stdout",
     "output_type": "stream",
     "text": [
      "[2, 3, 4]\n"
     ]
    }
   ],
   "source": [
    "a=[2,3,4]\n",
    "b=a.copy()\n",
    "print(a)"
   ]
  },
  {
   "cell_type": "code",
   "execution_count": 5,
   "id": "451f0dc0-2d30-4024-bdf7-26e01848e656",
   "metadata": {},
   "outputs": [
    {
     "name": "stdout",
     "output_type": "stream",
     "text": [
      "[2, 3, 4]\n"
     ]
    }
   ],
   "source": [
    "a=[2,3,4]\n",
    "b=a[:]\n",
    "print(a)"
   ]
  },
  {
   "cell_type": "code",
   "execution_count": 6,
   "id": "7f0c83d5-ea73-4959-beca-4e29b726fd52",
   "metadata": {},
   "outputs": [
    {
     "name": "stdout",
     "output_type": "stream",
     "text": [
      "[2, 4, 5, 6]\n"
     ]
    }
   ],
   "source": [
    "a=[2,4,5,6]\n",
    "b=a.sort()\n",
    "print(a)"
   ]
  },
  {
   "cell_type": "code",
   "execution_count": 7,
   "id": "d780e826-acf6-4da0-a5d1-e2fe984aced8",
   "metadata": {},
   "outputs": [
    {
     "name": "stdout",
     "output_type": "stream",
     "text": [
      "[1, 2, 4, 7, 9]\n"
     ]
    }
   ],
   "source": [
    "a=[4,7,2,9,1]\n",
    "b=a.sort()\n",
    "print(a)"
   ]
  },
  {
   "cell_type": "code",
   "execution_count": null,
   "id": "0555c88e-b8e0-462a-ade5-b0f755a97059",
   "metadata": {},
   "outputs": [],
   "source": []
  }
 ],
 "metadata": {
  "kernelspec": {
   "display_name": "Python 3 (ipykernel)",
   "language": "python",
   "name": "python3"
  },
  "language_info": {
   "codemirror_mode": {
    "name": "ipython",
    "version": 3
   },
   "file_extension": ".py",
   "mimetype": "text/x-python",
   "name": "python",
   "nbconvert_exporter": "python",
   "pygments_lexer": "ipython3",
   "version": "3.12.3"
  }
 },
 "nbformat": 4,
 "nbformat_minor": 5
}
