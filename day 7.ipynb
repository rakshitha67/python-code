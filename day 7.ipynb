{
 "cells": [
  {
   "cell_type": "code",
   "execution_count": 8,
   "id": "d1574e43-3ce7-4a57-833a-c75efa8f1562",
   "metadata": {},
   "outputs": [
    {
     "name": "stdout",
     "output_type": "stream",
     "text": [
      "19\n"
     ]
    }
   ],
   "source": [
    "# find the maximum sum of the  three consecutive elements in the array\n",
    "L=[2,4,6,1,3,7,4,6,9,3,6,8,3,6,4,1,3,9,6,4,5,6,8,3,7,3,6,8]\n",
    "max=0\n",
    "for x in range(0,len(L)-2):\n",
    "    sum=L[x]+L[x+1]+L[x+2]\n",
    "    if (max<sum):\n",
    "         max=sum\n",
    "\n",
    "print(max)\n",
    "    \n",
    "    \n",
    "    \n",
    "   "
   ]
  },
  {
   "cell_type": "code",
   "execution_count": 10,
   "id": "afbb239d-f4aa-4585-b2b3-bf33223b2790",
   "metadata": {},
   "outputs": [
    {
     "name": "stdin",
     "output_type": "stream",
     "text": [
      " 4\n"
     ]
    },
    {
     "name": "stdout",
     "output_type": "stream",
     "text": [
      "24\n"
     ]
    }
   ],
   "source": [
    "L=[2,4,5,6,7,8,9,3,4,5,6,7]\n",
    "n=int(input())\n",
    "max=0\n",
    "for n in range(0,len(L)-2):\n",
    "    sum=L[n]+L[n+1]+L[n+2]\n",
    "    if (max<sum):\n",
    "       max=sum\n",
    "\n",
    "print(max)\n",
    "      "
   ]
  },
  {
   "cell_type": "code",
   "execution_count": 15,
   "id": "a9a09b33-12dc-41b4-b0c6-13931ec25cba",
   "metadata": {},
   "outputs": [
    {
     "name": "stdin",
     "output_type": "stream",
     "text": [
      "Enter consecutive number 8\n"
     ]
    },
    {
     "name": "stdout",
     "output_type": "stream",
     "text": [
      "48\n"
     ]
    }
   ],
   "source": [
    "# find the maximum sum of the  three consecutive elements in the array\n",
    "L=[2,4,6,1,3,7,4,6,9,3,6,8,3,6,4,1,3,9,6,4,5,6,8,3,7,3,6,8]\n",
    "max=0\n",
    "con=int(input(\"Enter consecutive number\"))\n",
    "for x in range(0,len(L)-con):\n",
    "    s=0\n",
    "    for j in range(0,con):\n",
    "        s=s+L[x+j]\n",
    "    if max<s:\n",
    "         max=s\n",
    "\n",
    "print(max)\n",
    "    \n",
    "    \n",
    "    \n",
    "   "
   ]
  },
  {
   "cell_type": "code",
   "execution_count": 2,
   "id": "e8240d66-f598-4f0a-8bbf-095f434105d6",
   "metadata": {},
   "outputs": [
    {
     "name": "stdout",
     "output_type": "stream",
     "text": [
      "[2, 3, 4, 5, 6, 7]\n"
     ]
    }
   ],
   "source": [
    "a=[2,3,4,5,6,7]\n",
    "b=a.sort()\n",
    "print(a)"
   ]
  },
  {
   "cell_type": "code",
   "execution_count": 4,
   "id": "031e6d05-704e-4445-a7c0-093cace1e08c",
   "metadata": {},
   "outputs": [
    {
     "name": "stdout",
     "output_type": "stream",
     "text": [
      "[0, 3, 4, 5, 6, 6, 7]\n"
     ]
    }
   ],
   "source": [
    "a=[7,6,3,4,5,6,0]\n",
    "b=a.sort()\n",
    "print(a)"
   ]
  },
  {
   "cell_type": "code",
   "execution_count": 21,
   "id": "a9f7f55c-ffbc-4eb1-b5ac-9d8211cc2579",
   "metadata": {},
   "outputs": [
    {
     "name": "stdout",
     "output_type": "stream",
     "text": [
      "[3, 5, 6, 7, 8, 9]\n"
     ]
    }
   ],
   "source": [
    "ar=[5,9,8,7,6,3]\n",
    "for i in range(0,len(a)):\n",
    "   for j in range(0,len(a)-1):\n",
    "      if ar[j]>ar[j+1]:\n",
    "        temp=ar[j]\n",
    "        ar[j]=ar[j+1]\n",
    "        ar[j+1]=temp\n",
    "\n",
    "print(ar)\n",
    "        \n",
    "    \n",
    "                                                                                      "
   ]
  },
  {
   "cell_type": "code",
   "execution_count": 22,
   "id": "870bb80b-e12c-4094-b9ec-6fd61250b2a1",
   "metadata": {},
   "outputs": [
    {
     "name": "stdout",
     "output_type": "stream",
     "text": [
      "[9, 8, 7, 6, 5, 3]\n"
     ]
    }
   ],
   "source": [
    "ar=[5,9,8,7,6,3]\n",
    "for i in range(0,len(a)):\n",
    "   for j in range(0,len(a)-1):\n",
    "      if ar[j]<ar[j+1]:\n",
    "        temp=ar[j]\n",
    "        ar[j]=ar[j+1]\n",
    "        ar[j+1]=temp\n",
    "\n",
    "print(ar)\n",
    "        \n",
    "    \n",
    "                                                                                      "
   ]
  },
  {
   "cell_type": "code",
   "execution_count": null,
   "id": "b1903adb-af57-4963-860e-f9843d918d01",
   "metadata": {},
   "outputs": [],
   "source": []
  },
  {
   "cell_type": "code",
   "execution_count": null,
   "id": "faeb399c-92b4-44db-adf5-dbb16164f35c",
   "metadata": {},
   "outputs": [],
   "source": []
  },
  {
   "cell_type": "code",
   "execution_count": null,
   "id": "67426835-c60f-4701-9382-9a1bd286a218",
   "metadata": {},
   "outputs": [],
   "source": []
  }
 ],
 "metadata": {
  "kernelspec": {
   "display_name": "Python 3 (ipykernel)",
   "language": "python",
   "name": "python3"
  },
  "language_info": {
   "codemirror_mode": {
    "name": "ipython",
    "version": 3
   },
   "file_extension": ".py",
   "mimetype": "text/x-python",
   "name": "python",
   "nbconvert_exporter": "python",
   "pygments_lexer": "ipython3",
   "version": "3.12.3"
  }
 },
 "nbformat": 4,
 "nbformat_minor": 5
}
