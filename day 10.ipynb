{
 "cells": [
  {
   "cell_type": "code",
   "execution_count": 1,
   "id": "643f9cba-5663-48e0-a0cc-f55feb619a15",
   "metadata": {},
   "outputs": [
    {
     "name": "stdin",
     "output_type": "stream",
     "text": [
      " 2\n"
     ]
    },
    {
     "name": "stdout",
     "output_type": "stream",
     "text": [
      "2\n",
      "4\n",
      "6\n",
      "8\n",
      "10\n",
      "12\n",
      "14\n",
      "16\n",
      "18\n",
      "20\n"
     ]
    }
   ],
   "source": [
    "n=int(input())\n",
    "for i in range (1,11):\n",
    "    print(i*2)"
   ]
  },
  {
   "cell_type": "code",
   "execution_count": 21,
   "id": "13633c09-fe21-4818-bc1a-d5e48c211f8c",
   "metadata": {},
   "outputs": [
    {
     "name": "stdin",
     "output_type": "stream",
     "text": [
      " 6\n"
     ]
    },
    {
     "name": "stdout",
     "output_type": "stream",
     "text": [
      "30\n"
     ]
    }
   ],
   "source": [
    "n=int(input())\n",
    "for i in range(1,n):\n",
    "  if n<=0:\n",
    "    print (n)\n",
    "else:\n",
    "    print(n*(n-1))"
   ]
  },
  {
   "cell_type": "code",
   "execution_count": 27,
   "id": "882d2a12-50ab-4353-adb3-8ccc0cfdc354",
   "metadata": {},
   "outputs": [
    {
     "name": "stdin",
     "output_type": "stream",
     "text": [
      " 4\n"
     ]
    },
    {
     "name": "stdout",
     "output_type": "stream",
     "text": [
      "24\n"
     ]
    }
   ],
   "source": [
    "fact=1\n",
    "n=int(input())\n",
    "for i in range(n,1,-1):\n",
    "    fact*=i\n",
    "print(fact)"
   ]
  },
  {
   "cell_type": "code",
   "execution_count": 38,
   "id": "71056358-937c-4998-9f80-bceb2c2a90c9",
   "metadata": {},
   "outputs": [
    {
     "name": "stdin",
     "output_type": "stream",
     "text": [
      " 5\n"
     ]
    },
    {
     "name": "stdout",
     "output_type": "stream",
     "text": [
      "120\n"
     ]
    }
   ],
   "source": [
    "def fact(i):\n",
    "  if i ==1:\n",
    "     return 1\n",
    "  else:\n",
    "    return(i*fact(i-1))\n",
    "\n",
    "if __name__==\"__main__\":\n",
    "    n=int(input())\n",
    "    print(fact(n))\n"
   ]
  },
  {
   "cell_type": "code",
   "execution_count": 42,
   "id": "ee8dfd52-599f-439a-89a5-b66fc8d9c549",
   "metadata": {},
   "outputs": [
    {
     "name": "stdin",
     "output_type": "stream",
     "text": [
      " 7\n"
     ]
    },
    {
     "name": "stdout",
     "output_type": "stream",
     "text": [
      "13\n"
     ]
    }
   ],
   "source": [
    "def fab(i):\n",
    "    if i ==0:\n",
    "        return 0\n",
    "    elif i == 1:\n",
    "        return 1\n",
    "    else:\n",
    "        return fab(i-1)+fab(i-2)\n",
    "\n",
    "if __name__==\"__main__\":\n",
    "    n=int(input())\n",
    "    print(fab(n))"
   ]
  },
  {
   "cell_type": "code",
   "execution_count": 57,
   "id": "3e0b88c5-e28b-48f8-9dd2-aef622a359e4",
   "metadata": {},
   "outputs": [
    {
     "name": "stdin",
     "output_type": "stream",
     "text": [
      " 7\n"
     ]
    },
    {
     "name": "stdout",
     "output_type": "stream",
     "text": [
      "11\n",
      "9\n",
      "7\n",
      "5\n",
      "3\n",
      "1\n",
      "1\n"
     ]
    }
   ],
   "source": [
    "fib=0\n",
    "n=int(input())\n",
    "for i in range(n,0,-1):\n",
    "     if i==0:\n",
    "        print(i)\n",
    "     elif i==1:\n",
    "        print(i)\n",
    "     else:\n",
    "        print(fib+(i-1)+(i-2))\n",
    "\n"
   ]
  },
  {
   "cell_type": "code",
   "execution_count": 63,
   "id": "aabc2309-8860-4fd7-86ae-d2a0e50cad29",
   "metadata": {},
   "outputs": [
    {
     "name": "stdout",
     "output_type": "stream",
     "text": [
      "[1, 2, 3, 4, 5, 6, 7, 8, 9]\n"
     ]
    }
   ],
   "source": [
    "def findpe(ar,low,high):\n",
    "    pe=ar[high]\n",
    "    j=low-1\n",
    "    for i in range(low,high):\n",
    "        if pe>ar[i]:\n",
    "            j+=1\n",
    "            ar[i],ar[j]=ar[j],ar[i]\n",
    "    ar[high],ar[j+1]=ar[j+1],ar[high]\n",
    "    return j+1\n",
    "\n",
    "def quicksort(ar,low,high):\n",
    "    if low<high:\n",
    "        pi= findpe(ar,low,high)\n",
    "        quicksort(ar ,low,pi-1)\n",
    "        quicksort(ar,pe+1,high)\n",
    "\n",
    "ar=[3,5,7,2,4,8,1,9,6]\n",
    "quicksort(ar,0,len(ar)-1)\n",
    "print(ar)\n",
    "            \n",
    "    \n"
   ]
  },
  {
   "cell_type": "code",
   "execution_count": 7,
   "id": "3087a52e-4c28-4ed1-a206-2b5d5023e852",
   "metadata": {},
   "outputs": [
    {
     "name": "stdout",
     "output_type": "stream",
     "text": [
      "Node 1 <__main__.node object at 0x000002B88B1A3A10> 1\n",
      "Node 2 <__main__.node object at 0x000002B88B097B00> 2\n",
      "Node 3 <__main__.node object at 0x000002B88B07BE30> 3\n",
      "Node 4 <__main__.node object at 0x000002B88B1A3B90> 4\n"
     ]
    }
   ],
   "source": [
    "class node:\n",
    "    def __init__(self,data):\n",
    "        self.data=data\n",
    "        self.next=None\n",
    "\n",
    "head=node(1)\n",
    "head.next=node(2)\n",
    "head.next.next=node(3)\n",
    "head.next.next.next=node(4)\n",
    "\n",
    "\n",
    "print( \"Node 1\",head,head.data)\n",
    "print(\"Node 2\",head.next,head.next.data)\n",
    "print(\"Node 3\",head.next.next,head.next.next.data)\n",
    "print(\"Node 4\",head.next.next.next,head.next.next.next.data)"
   ]
  },
  {
   "cell_type": "code",
   "execution_count": null,
   "id": "151ca7dd-aea7-4503-bca4-fed34d35e864",
   "metadata": {},
   "outputs": [],
   "source": []
  }
 ],
 "metadata": {
  "kernelspec": {
   "display_name": "Python 3 (ipykernel)",
   "language": "python",
   "name": "python3"
  },
  "language_info": {
   "codemirror_mode": {
    "name": "ipython",
    "version": 3
   },
   "file_extension": ".py",
   "mimetype": "text/x-python",
   "name": "python",
   "nbconvert_exporter": "python",
   "pygments_lexer": "ipython3",
   "version": "3.12.3"
  }
 },
 "nbformat": 4,
 "nbformat_minor": 5
}
