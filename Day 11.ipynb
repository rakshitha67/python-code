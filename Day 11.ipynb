{
 "cells": [
  {
   "cell_type": "code",
   "execution_count": 17,
   "id": "ebf1988a-fb25-493f-8750-fbd74f41a1f6",
   "metadata": {},
   "outputs": [
    {
     "name": "stdout",
     "output_type": "stream",
     "text": [
      "1 --> 2 --> 3 --> 4 --> 5 -->\n"
     ]
    }
   ],
   "source": [
    "class node:\n",
    "    def __init__(self,value):\n",
    "        self.data=value\n",
    "        self.next=None\n",
    "\n",
    "Head=node(1)\n",
    "Head.next=node(2)\n",
    "Head.next.next=node(3)\n",
    "Head.next.next.next=node(4)\n",
    "Head.next.next.next.next=node(5)\n",
    "\n",
    "print(Head.data,\"-->\",\n",
    "Head.next.data,\"-->\",\n",
    "Head.next.next.data,\"-->\",\n",
    "Head.next.next.next.data,\"-->\",\n",
    "Head.next.next.next.next.data,\"-->\",)  \n",
    "\n",
    "    \n",
    "    \n",
    "        \n",
    "      \n",
    "\n",
    "        "
   ]
  },
  {
   "cell_type": "code",
   "execution_count": 18,
   "id": "34939334-00c7-4591-8996-c0bb8059ad17",
   "metadata": {},
   "outputs": [
    {
     "name": "stdin",
     "output_type": "stream",
     "text": [
      " 6\n"
     ]
    },
    {
     "name": "stdout",
     "output_type": "stream",
     "text": [
      "6\n"
     ]
    }
   ],
   "source": [
    "x=int(input())\n",
    "temp=node(x)\n",
    "temp.next=Head\n",
    "Head=temp\n",
    "\n",
    "print(Head.data)"
   ]
  },
  {
   "cell_type": "code",
   "execution_count": 19,
   "id": "ed73b2b4-12f4-4186-8eda-2dc11df0a6d4",
   "metadata": {},
   "outputs": [
    {
     "name": "stdout",
     "output_type": "stream",
     "text": [
      "6 --> 1 --> 2 --> 3 --> 4 -->\n"
     ]
    }
   ],
   "source": [
    "print(Head.data,\"-->\",\n",
    "Head.next.data,\"-->\",\n",
    "Head.next.next.data,\"-->\",\n",
    "Head.next.next.next.data,\"-->\",\n",
    "Head.next.next.next.next.data,\"-->\",)  \n"
   ]
  },
  {
   "cell_type": "code",
   "execution_count": 20,
   "id": "2a20709b-1af5-4ddc-a897-4fe64e69f6e8",
   "metadata": {},
   "outputs": [
    {
     "name": "stdin",
     "output_type": "stream",
     "text": [
      " 7\n"
     ]
    }
   ],
   "source": [
    "x=int(input())\n",
    "temp=node(x)\n",
    "curr=Head\n",
    "\n",
    "if curr==None:\n",
    "    Head=temp\n",
    "else:\n",
    "    while curr.next != None:\n",
    "        curr=curr.next\n",
    "    curr.next=temp    \n"
   ]
  },
  {
   "cell_type": "code",
   "execution_count": 21,
   "id": "904531eb-a0c9-40fd-8045-1f770ecdfe7a",
   "metadata": {},
   "outputs": [
    {
     "name": "stdout",
     "output_type": "stream",
     "text": [
      "6 --> 1 --> 2 --> 3 --> 4 --> 5 --> 7 --> "
     ]
    }
   ],
   "source": [
    "curr = Head\n",
    "\n",
    "while curr!=None:\n",
    "    print(curr.data,\"-->\",end=\" \")\n",
    "    curr=curr.next\n",
    "    "
   ]
  },
  {
   "cell_type": "code",
   "execution_count": 22,
   "id": "4464fcd2-61cc-4e45-a698-01de0c7da468",
   "metadata": {},
   "outputs": [
    {
     "name": "stdin",
     "output_type": "stream",
     "text": [
      "Enter the location of the element 2\n",
      " 3\n"
     ]
    }
   ],
   "source": [
    "L=int(input(\"Enter the location of the element\"))\n",
    "x=int(input())\n",
    "curr=Head\n",
    "while curr != None:\n",
    "    if(curr.data == L):\n",
    "        break\n",
    "    curr=curr.next\n",
    "temp=node(x)\n",
    "temp.next=curr.next\n",
    "curr.next=temp"
   ]
  },
  {
   "cell_type": "code",
   "execution_count": 23,
   "id": "5279c2e0-d39d-4404-8616-de85ad50ceab",
   "metadata": {},
   "outputs": [
    {
     "name": "stdout",
     "output_type": "stream",
     "text": [
      "6 --> 1 --> 2 --> 3 --> 3 --> 4 --> 5 --> 7 --> "
     ]
    }
   ],
   "source": [
    "curr = Head\n",
    "\n",
    "while curr!=None:\n",
    "    print(curr.data,\"-->\",end=\" \")\n",
    "    curr=curr.next"
   ]
  },
  {
   "cell_type": "code",
   "execution_count": 24,
   "id": "0d166fa1-48ee-4a7e-befd-41e8ca7c2ac0",
   "metadata": {},
   "outputs": [],
   "source": [
    "if Head==None:\n",
    "    print(\"list is empty\")\n",
    "else:\n",
    "    Head=Head.next"
   ]
  },
  {
   "cell_type": "code",
   "execution_count": 25,
   "id": "3347a99c-6e20-4910-93df-436fa5227386",
   "metadata": {},
   "outputs": [
    {
     "name": "stdout",
     "output_type": "stream",
     "text": [
      "1 --> 2 --> 3 --> 3 --> 4 --> 5 --> 7 --> "
     ]
    }
   ],
   "source": [
    "curr = Head\n",
    "\n",
    "while curr!=None:\n",
    "    print(curr.data,\"-->\",end=\" \")\n",
    "    curr=curr.next"
   ]
  },
  {
   "cell_type": "code",
   "execution_count": 27,
   "id": "f3a7e923-0fe1-4f3b-b99f-b3fbcdf8ca73",
   "metadata": {},
   "outputs": [
    {
     "name": "stdin",
     "output_type": "stream",
     "text": [
      " 4\n"
     ]
    },
    {
     "ename": "AttributeError",
     "evalue": "'NoneType' object has no attribute 'data'",
     "output_type": "error",
     "traceback": [
      "\u001b[1;31m---------------------------------------------------------------------------\u001b[0m",
      "\u001b[1;31mAttributeError\u001b[0m                            Traceback (most recent call last)",
      "Cell \u001b[1;32mIn[27], line 3\u001b[0m\n\u001b[0;32m      1\u001b[0m x\u001b[38;5;241m=\u001b[39m\u001b[38;5;28mint\u001b[39m(\u001b[38;5;28minput\u001b[39m())\n\u001b[0;32m      2\u001b[0m prev\u001b[38;5;241m=\u001b[39mHead\n\u001b[1;32m----> 3\u001b[0m \u001b[38;5;28;01mif\u001b[39;00m \u001b[43mcurr\u001b[49m\u001b[38;5;241;43m.\u001b[39;49m\u001b[43mdata\u001b[49m\u001b[38;5;241m==\u001b[39mx:\n\u001b[0;32m      4\u001b[0m   prev\u001b[38;5;241m.\u001b[39mnext\u001b[38;5;241m=\u001b[39mcurr\u001b[38;5;241m.\u001b[39mnext\n",
      "\u001b[1;31mAttributeError\u001b[0m: 'NoneType' object has no attribute 'data'"
     ]
    }
   ],
   "source": [
    "x=int(input())\n",
    "prev=Head\n",
    "if curr.data==x:\n",
    "  prev.next=curr.next\n"
   ]
  },
  {
   "cell_type": "code",
   "execution_count": 12,
   "id": "84068b2a-8ee2-49be-b0b7-e8649d366b06",
   "metadata": {},
   "outputs": [
    {
     "name": "stdout",
     "output_type": "stream",
     "text": [
      "2 --> 3 --> 4 --> 12 --> 5 --> 5 --> "
     ]
    }
   ],
   "source": [
    "curr = Head\n",
    "\n",
    "while curr!=None:\n",
    "    print(curr.data,\"-->\",end=\" \")\n",
    "    curr=curr.next"
   ]
  },
  {
   "cell_type": "code",
   "execution_count": 11,
   "id": "f256d01d-94d0-46e2-9789-553e1a26ca4d",
   "metadata": {},
   "outputs": [
    {
     "name": "stdout",
     "output_type": "stream",
     "text": [
      "1 2 4 5 3 6 7 preorder travesal\n",
      "4 5 2 6 7 3 1 postorder travesal\n",
      "4 2 5 1 6 3 7 inorderorder travesal\n",
      "levelorder traversal\n",
      "1 \n",
      "2 3 \n",
      "4 5 6 7 \n"
     ]
    }
   ],
   "source": [
    "class node:\n",
    "    def __init__(self,value):\n",
    "        self.data=value\n",
    "        self.left=None\n",
    "        self.right=None\n",
    "\n",
    "def preorder(root):\n",
    "    if root == None:\n",
    "        return\n",
    "    print(root.data,end=\" \")\n",
    "    preorder(root.left)\n",
    "    preorder(root.right)\n",
    "\n",
    "def postorder(root):\n",
    "    if root == None:\n",
    "        return\n",
    "    postorder(root.left)\n",
    "    postorder(root.right)\n",
    "    print(root.data,end=\" \")\n",
    "\n",
    "def inorder(root):\n",
    "    if root == None:\n",
    "        return\n",
    "    inorder(root.left)\n",
    "    print(root.data,end=\" \")\n",
    "    inorder(root.right)\n",
    "\n",
    "def levelorder(root):\n",
    "    Q=[root,None]\n",
    "    while Q:\n",
    "        curr = Q.pop(0)\n",
    "        if curr == None:\n",
    "            print()\n",
    "            if Q:\n",
    "               Q.append(curr)\n",
    "\n",
    "        else:\n",
    "            print(curr.data,end=\" \")\n",
    "            if curr.left !=None:\n",
    "               Q.append(curr.left)\n",
    "           \n",
    "            if curr.right !=None:\n",
    "              Q.append(curr.right)\n",
    "            \n",
    "\n",
    "        \n",
    "\n",
    "root = node(1)\n",
    "root.left = node(2)\n",
    "root.right = node(3)\n",
    "\n",
    "root.left.left=node(4)\n",
    "root.left.right=node(5)\n",
    "\n",
    "root.right.left=node(6)\n",
    "root.right.right=node(7)\n",
    "preorder(root)\n",
    "print(\"preorder travesal\")\n",
    "postorder(root)\n",
    "print(\"postorder travesal\")\n",
    "inorder(root)\n",
    "print(\"inorderorder travesal\")\n",
    "\n",
    "print(\"levelorder traversal\")\n",
    "levelorder(root)\n"
   ]
  },
  {
   "cell_type": "code",
   "execution_count": null,
   "id": "ba275c94-84c6-48e4-9e78-d15db52a724c",
   "metadata": {},
   "outputs": [],
   "source": []
  }
 ],
 "metadata": {
  "kernelspec": {
   "display_name": "Python 3 (ipykernel)",
   "language": "python",
   "name": "python3"
  },
  "language_info": {
   "codemirror_mode": {
    "name": "ipython",
    "version": 3
   },
   "file_extension": ".py",
   "mimetype": "text/x-python",
   "name": "python",
   "nbconvert_exporter": "python",
   "pygments_lexer": "ipython3",
   "version": "3.12.3"
  }
 },
 "nbformat": 4,
 "nbformat_minor": 5
}
