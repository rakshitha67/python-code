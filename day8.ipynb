{
 "cells": [
  {
   "cell_type": "code",
   "execution_count": null,
   "id": "48a8b266-e9cc-4fae-88a3-c0cf05189e1d",
   "metadata": {},
   "outputs": [],
   "source": []
  },
  {
   "cell_type": "code",
   "execution_count": null,
   "id": "33859a10-42c0-4b6c-b9d8-1858eda54b87",
   "metadata": {},
   "outputs": [],
   "source": []
  },
  {
   "cell_type": "code",
   "execution_count": null,
   "id": "ebfb67a9-2687-4ff3-bd29-aaf77c1544e7",
   "metadata": {},
   "outputs": [],
   "source": []
  },
  {
   "cell_type": "code",
   "execution_count": null,
   "id": "a8312233-8927-4dfd-8ef6-b55d05db5575",
   "metadata": {},
   "outputs": [],
   "source": []
  },
  {
   "cell_type": "code",
   "execution_count": 1,
   "id": "c6ec1e7d-bf6a-49aa-8fe3-d341197a11fb",
   "metadata": {},
   "outputs": [
    {
     "name": "stdin",
     "output_type": "stream",
     "text": [
      "Enter a string this is (a) car\n"
     ]
    },
    {
     "name": "stdout",
     "output_type": "stream",
     "text": [
      "invalid string\n"
     ]
    }
   ],
   "source": [
    "a=input(\"Enter a string\")\n",
    "for string in a:\n",
    "    if a== '(' and a==')':\n",
    "       print(\"valid string\")\n",
    "    elif a== '[' and a==']':\n",
    "        print(\"valid string\")\n",
    "    elif a== '{' and a=='}':\n",
    "       print(\"valid string\")\n",
    "else:  \n",
    "     print(\"invalid string\")"
   ]
  },
  {
   "cell_type": "code",
   "execution_count": 21,
   "id": "b0735687-8f1a-4ed7-92b1-f5f84818c524",
   "metadata": {},
   "outputs": [
    {
     "name": "stdin",
     "output_type": "stream",
     "text": [
      " this is (a) car\n"
     ]
    },
    {
     "name": "stdout",
     "output_type": "stream",
     "text": [
      "valid string\n"
     ]
    }
   ],
   "source": [
    "S=input()\n",
    "x=y=z=0\n",
    "for c in S:\n",
    "    match(c):\n",
    "       case '(':x+=1\n",
    "       case ')':x-=1\n",
    "       case '[':y+=1\n",
    "       case ']':y-=1\n",
    "       case '{':z+=1\n",
    "       case '}':z-=1\n",
    "       case _: continue\n",
    "if x+y+z==0:\n",
    "    print(\"valid string\")\n",
    "else:\n",
    "    print(\"invalid string\")\n",
    "       "
   ]
  },
  {
   "cell_type": "code",
   "execution_count": 18,
   "id": "810e39e4-6d3c-4a02-b96e-d990bc63dc73",
   "metadata": {},
   "outputs": [
    {
     "name": "stdin",
     "output_type": "stream",
     "text": [
      " this is (a car\n"
     ]
    },
    {
     "name": "stdout",
     "output_type": "stream",
     "text": [
      "invalid string\n"
     ]
    }
   ],
   "source": [
    "S=input()\n",
    "x=y=z=0\n",
    "for c in S:\n",
    "    match(c):\n",
    "       case '(':x+=1\n",
    "       case ')':x-=1\n",
    "       case '[':y+=1\n",
    "       case ']':y-=1\n",
    "       case '{':z+=1\n",
    "       case '}':z-=1\n",
    "       case _: continue\n",
    "if x+y+z==0:\n",
    "    print(\"valid string\")\n",
    "else:\n",
    "    print(\"invalid string\")\n",
    "       "
   ]
  },
  {
   "cell_type": "code",
   "execution_count": null,
   "id": "3e6bd5dc-5b8e-45ac-a34d-cf06f070bce8",
   "metadata": {},
   "outputs": [],
   "source": [
    "a=input()\n"
   ]
  },
  {
   "cell_type": "code",
   "execution_count": 10,
   "id": "0b91b89d-95d7-4dd4-bf3c-7ac8a20c1fee",
   "metadata": {},
   "outputs": [
    {
     "name": "stdout",
     "output_type": "stream",
     "text": [
      "[1, 2, 3]\n",
      "3\n"
     ]
    }
   ],
   "source": [
    "a=[]\n",
    "a.append(1)\n",
    "a.append(2)\n",
    "a.append(3)\n",
    "print(a)\n",
    "poppedelement=a.pop()\n",
    "print(poppedelement)\n",
    "         \n",
    "\n",
    "\n"
   ]
  },
  {
   "cell_type": "code",
   "execution_count": 11,
   "id": "81273e02-937c-4c14-b0f2-e4348e6b1dc6",
   "metadata": {},
   "outputs": [
    {
     "name": "stdout",
     "output_type": "stream",
     "text": [
      "item added to the stack\n",
      "item added to the stack\n",
      "item added to the stack\n",
      "item deleted from the stack\n",
      "[56, 78]\n",
      "item added to the stack\n",
      "[56, 78, [1, 2]]\n"
     ]
    }
   ],
   "source": [
    "def add(E):\n",
    "   s.append(E)\n",
    "   print(\"item added to the stack\")\n",
    "\n",
    "def delete():\n",
    "    s.pop()\n",
    "    print(\"item deleted from the stack\")\n",
    "\n",
    "\n",
    "s=[]\n",
    "add(56)\n",
    "add(78)\n",
    "add(90)\n",
    "\n",
    "delete()\n",
    "print(s)\n",
    "\n",
    "add(a)\n",
    "print(s)\n"
   ]
  },
  {
   "cell_type": "code",
   "execution_count": null,
   "id": "24f5c331-640b-4df0-bd28-93e249ab2927",
   "metadata": {},
   "outputs": [],
   "source": [
    "\n"
   ]
  }
 ],
 "metadata": {
  "kernelspec": {
   "display_name": "Python 3 (ipykernel)",
   "language": "python",
   "name": "python3"
  },
  "language_info": {
   "codemirror_mode": {
    "name": "ipython",
    "version": 3
   },
   "file_extension": ".py",
   "mimetype": "text/x-python",
   "name": "python",
   "nbconvert_exporter": "python",
   "pygments_lexer": "ipython3",
   "version": "3.12.3"
  }
 },
 "nbformat": 4,
 "nbformat_minor": 5
}
